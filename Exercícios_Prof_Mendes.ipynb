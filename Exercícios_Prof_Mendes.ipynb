{
  "nbformat": 4,
  "nbformat_minor": 0,
  "metadata": {
    "colab": {
      "name": "Exercícios Prof. Mendes.ipynb",
      "provenance": [],
      "authorship_tag": "ABX9TyN6IfpCUTOcjE++HDCj/Fpb",
      "include_colab_link": true
    },
    "kernelspec": {
      "name": "python3",
      "display_name": "Python 3"
    },
    "language_info": {
      "name": "python"
    }
  },
  "cells": [
    {
      "cell_type": "markdown",
      "metadata": {
        "id": "view-in-github",
        "colab_type": "text"
      },
      "source": [
        "<a href=\"https://colab.research.google.com/github/SoftwareMhat/SoftwareMhat/blob/main/Exerc%C3%ADcios_Prof_Mendes.ipynb\" target=\"_parent\"><img src=\"https://colab.research.google.com/assets/colab-badge.svg\" alt=\"Open In Colab\"/></a>"
      ]
    },
    {
      "cell_type": "markdown",
      "metadata": {
        "id": "pIyYwZk2888C"
      },
      "source": [
        ""
      ]
    },
    {
      "cell_type": "markdown",
      "metadata": {
        "id": "SXbEWnYs889s"
      },
      "source": [
        "##1-Faça um programa que calcule e  imprime a soma de dois números inteiros "
      ]
    },
    {
      "cell_type": "code",
      "metadata": {
        "colab": {
          "base_uri": "https://localhost:8080/"
        },
        "id": "62sxxiLJ9lks",
        "outputId": "9d4dfa61-ea17-4b28-8f41-5938ae94daa5"
      },
      "source": [
        "n1 = int(input(\"Digite o número n1?\"))\n",
        "n2 = int(input(\"Digite o número n2?   \"  ))\n",
        "soma=n1 + n2\n",
        "print(\"O valor da Soma de   \", n1 , \"+\" ,  n2 , \"É igual a  \" , soma)"
      ],
      "execution_count": 1,
      "outputs": [
        {
          "output_type": "stream",
          "text": [
            "Digite o número n1?52\n",
            "Digite o número n2?   85\n",
            "O valor da Soma de    52 + 85 É igual a   137\n"
          ],
          "name": "stdout"
        }
      ]
    },
    {
      "cell_type": "markdown",
      "metadata": {
        "id": "CTLKwJbV_IkZ"
      },
      "source": [
        "##2-Faça um programa que calcule e imprima a média de 4 notas bimestrais números décimais"
      ]
    },
    {
      "cell_type": "code",
      "metadata": {
        "colab": {
          "base_uri": "https://localhost:8080/"
        },
        "id": "5InYRRLr_kIq",
        "outputId": "eb9a084e-0121-4759-fafb-e81d8ff65135"
      },
      "source": [
        "nota1= float(input(\"Digite o valor da NOTA do 1º Bimestre\"))\n",
        "nota2=float(input(\"Digite o valor da NOTA do 2º Bimestre \"))\n",
        "nota3= float(input(\"Digite o Valor da  NOTA do 3º Bimestre \"))\n",
        "nota4=float(input(\"Digite o valor da NOTA do 4º Bimestre \"))\n",
        "media = (nota1 + nota2+nota3+nota4)/4\n",
        "print(\"O valor da MÉDIA FINAL é   \", media)"
      ],
      "execution_count": null,
      "outputs": [
        {
          "output_type": "stream",
          "text": [
            "Digite o valor da NOTA do 1º Bimestre5.8\n",
            "Digite o valor da NOTA do 2º Bimestre 9\n",
            "Digite o Valor da  NOTA do 3º Bimestre 6\n",
            "Digite o valor da NOTA do 4º Bimestre 2\n",
            "O valor da MÉDIA FINAL é    5.7\n"
          ],
          "name": "stdout"
        }
      ]
    },
    {
      "cell_type": "markdown",
      "metadata": {
        "id": "yZeTuXRlBQrH"
      },
      "source": [
        "##3- Faça um programa que converta metros para centimetros "
      ]
    },
    {
      "cell_type": "code",
      "metadata": {
        "colab": {
          "base_uri": "https://localhost:8080/"
        },
        "id": "xjwcREJ_Biou",
        "outputId": "5e3df8d2-6cb5-4c3a-f1b4-7a373fe4c999"
      },
      "source": [
        "m=float(input(\"Digita o Valor em METROS ?\"))\n",
        "cmv=m*100\n",
        "print(\"O valor em Centimetros é \", cmv , \"cm\")"
      ],
      "execution_count": null,
      "outputs": [
        {
          "output_type": "stream",
          "text": [
            "Digita o Valor em METROS ?5\n",
            "O valor em Centimetros é  500.0 cm\n"
          ],
          "name": "stdout"
        }
      ]
    },
    {
      "cell_type": "markdown",
      "metadata": {
        "id": "_IbvnuNAJZZX"
      },
      "source": [
        "##4- Faça um programa que calcule a área de círculo com o valor do raio"
      ]
    },
    {
      "cell_type": "code",
      "metadata": {
        "colab": {
          "base_uri": "https://localhost:8080/"
        },
        "id": "5zIljoPVJjPq",
        "outputId": "becc372c-afb8-4516-b9a6-2f9112e9b657"
      },
      "source": [
        "r=float(input(\"Digite o valor do RAIO em metros \"))\n",
        "area = 3.14*pow(r,2)\n",
        "print(\"O valor da Área  é igual a \" , area, \" m² \")"
      ],
      "execution_count": null,
      "outputs": [
        {
          "output_type": "stream",
          "text": [
            "Digite o valor do RAIO em metros 1\n",
            "O valor da Área  é igual a  3.14  m² \n"
          ],
          "name": "stdout"
        }
      ]
    },
    {
      "cell_type": "markdown",
      "metadata": {
        "id": "BFFUscZTKJgu"
      },
      "source": [
        "##5- Faça um programa que cálcule  a área de um quadrado e em seguida imprima o dobo da área calculada."
      ]
    },
    {
      "cell_type": "code",
      "metadata": {
        "colab": {
          "base_uri": "https://localhost:8080/"
        },
        "id": "YeR5luF7KdUw",
        "outputId": "af742dc7-8984-42e7-b8f8-c81110af64c0"
      },
      "source": [
        "lado=float(input(\"Digite a medida em metros do lado do quadrado  \"))\n",
        "area=pow(lado,2)\n",
        "print(\"O valor do DOBRO da área do quadrado é  \", area*2, \"m²\")"
      ],
      "execution_count": null,
      "outputs": [
        {
          "output_type": "stream",
          "text": [
            "Digite a medida em metros do lado do quadrado  7\n",
            "O valor do DOBRO da área do quadrado é   98.0 m²\n"
          ],
          "name": "stdout"
        }
      ]
    },
    {
      "cell_type": "markdown",
      "metadata": {
        "id": "doaHoPikGHC1"
      },
      "source": [
        "##6- Faça um programa que , a partir do valor por hora e da quantidade de horas trabalhadas por mês, calcule e moste o sálario total naquele mês."
      ]
    },
    {
      "cell_type": "code",
      "metadata": {
        "colab": {
          "base_uri": "https://localhost:8080/"
        },
        "id": "VUaH9fCyHBMD",
        "outputId": "f46ca0fd-9afe-482d-8107-2ed913910562"
      },
      "source": [
        "horas=float(input(\"Digite a quantidades de horas trabalhadas por mês \"))\n",
        "valorhora=float(input(\"Digite o valor da hoa trabalhada \"))\n",
        "salario=horas*valorhora\n",
        "print(\"O valor do sálario do funcionário é de  \", salario, \" reais \")"
      ],
      "execution_count": null,
      "outputs": [
        {
          "output_type": "stream",
          "text": [
            "Digite a quantidades de horas trabalhadas por mês 120\n",
            "Digite o valor da hoa trabalhada 15\n",
            "O valor do sálario do funcionário é de   1800.0  reais \n"
          ],
          "name": "stdout"
        }
      ]
    },
    {
      "cell_type": "markdown",
      "metadata": {
        "id": "j-4UArcDLiyc"
      },
      "source": [
        "##7- Faça um programa que converta a temperatura em graus  Fahrenheit  para temperatura em graus Celsius. Calcule e imprime o valor.  Fórmula: °C = (°F − 32) ÷ 1, 8"
      ]
    },
    {
      "cell_type": "markdown",
      "metadata": {
        "id": "1Pyd0pzKNJ5L"
      },
      "source": [
        "Algumas correspondências Celsius x Fahrenheit:\n",
        "## 0 °C = 32 °F\n",
        "##5 °C = 41 °F\n",
        "##10 °C = 50 °F\n",
        "##15 °C = 59 °F\n",
        "##20 °C = 68 °F\n",
        "##25 °C = 77 °F\n",
        "##30 °C = 86 °F\n",
        "##35 °C = 95 °F"
      ]
    },
    {
      "cell_type": "code",
      "metadata": {
        "colab": {
          "base_uri": "https://localhost:8080/"
        },
        "id": "pSHI9UzwL96C",
        "outputId": "7abbb1bb-359f-4e33-d813-82c56eef5871"
      },
      "source": [
        "f=float(input(\"Digite o Valor da temperatura em graus Fahrenheit  \" ))\n",
        "c=(f-32) /1.8\n",
        "print(\"O valor da temperaturra é de \", c, \"C°\")"
      ],
      "execution_count": null,
      "outputs": [
        {
          "output_type": "stream",
          "text": [
            "Digite o Valor da temperatura em graus Fahrenheit  59\n",
            "O valor da temperaturra é de  15.0 C°\n"
          ],
          "name": "stdout"
        }
      ]
    }
  ]
}